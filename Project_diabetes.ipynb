{
  "nbformat": 4,
  "nbformat_minor": 0,
  "metadata": {
    "colab": {
      "provenance": [],
      "authorship_tag": "ABX9TyOaRaMbx35Z8ssqc+YYTVXf",
      "include_colab_link": true
    },
    "kernelspec": {
      "name": "python3",
      "display_name": "Python 3"
    },
    "language_info": {
      "name": "python"
    }
  },
  "cells": [
    {
      "cell_type": "markdown",
      "metadata": {
        "id": "view-in-github",
        "colab_type": "text"
      },
      "source": [
        "<a href=\"https://colab.research.google.com/github/Nowitkiewicz/Projects/blob/main/Project_diabetes.ipynb\" target=\"_parent\"><img src=\"https://colab.research.google.com/assets/colab-badge.svg\" alt=\"Open In Colab\"/></a>"
      ]
    },
    {
      "cell_type": "code",
      "execution_count": null,
      "metadata": {
        "id": "i_4CTZo_vNLj"
      },
      "outputs": [],
      "source": []
    },
    {
      "cell_type": "markdown",
      "source": [],
      "metadata": {
        "id": "5mkyxlGwvPGu"
      }
    },
    {
      "cell_type": "markdown",
      "source": [
        "About Dataset\n",
        "\n",
        "The Diabetes prediction dataset is a collection of medical and demographic data from patients,\n",
        "along with their diabetes status (positive or negative). The data includes features such as \n",
        "age, gender, body mass index (BMI), hypertension, heart disease, smoking history, HbA1c level, \n",
        "and blood glucose level. This dataset can be used to build machine learning models to predict \n",
        "diabetes in patients based on their medical history and demographic information. This can be useful\n",
        "for healthcare professionals in identifying patients who may be at risk of developing diabetes \n",
        "and in developing personalized treatment plans. Additionally, the dataset can be used by researchers\n",
        "to explore the relationships between various medical and demographic factors and the likelihood of developing diabetes.\n",
        "\n"
      ],
      "metadata": {
        "id": "24h-ca-OvPm1"
      }
    },
    {
      "cell_type": "markdown",
      "source": [
        "Legend:\n",
        "    \n",
        "    Gender refers to the biological sex of the individual, which can have an impact \n",
        "    on their susceptibility to diabetes.\n",
        "    \n",
        "    age is an important factor as diabetes is more commonly diagnosed in older adults.\n",
        "    Age ranges from 0-80 in our dataset.\n",
        "    \n",
        "    Hypertension is a medical condition in which the blood pressure in the arteries\n",
        "    is persistently elevated. It has values a 0.\n",
        "    \n",
        "    Heart disease is another medical condition that is associated with an increased \n",
        "    risk of developing diabetes. \n",
        "    \n",
        "    Smoking history is also considered a risk factor for diabetes and can exacerbate \n",
        "    the complications associated.\n",
        "    \n",
        "    BMI (Body Mass Index) is a measure of body fat based on weight and height. \n",
        "    Higher BMI values are linked to a higher risk.\n",
        "    \n",
        "    HbA1c (Hemoglobin A1c) level is a measure of a person's average blood sugar level \n",
        "    over the past 2-3 months. Higher levels indicate a greater risk of developing diabetes.\n",
        "    Mostly more than 6.5% of HbA1c Level indicates diabetes.\n",
        "    \n",
        "    Blood glucose level refers to the amount of glucose in the bloodstream at a given time. \n",
        "    High blood glucose levels are a key indicator of diabetes.\n",
        "    "
      ],
      "metadata": {
        "id": "MTJeFGOtvZum"
      }
    },
    {
      "cell_type": "code",
      "source": [
        "import pandas as pd\n",
        "import numpy as np\n",
        "import sklearn"
      ],
      "metadata": {
        "id": "Sy6RK6x7ve_q"
      },
      "execution_count": 7,
      "outputs": []
    },
    {
      "cell_type": "code",
      "source": [
        "df = pd.read_csv('f:\\\\diabetes_prediction_dataset.csv')"
      ],
      "metadata": {
        "id": "wNrp_-4zwSFP"
      },
      "execution_count": null,
      "outputs": []
    },
    {
      "cell_type": "code",
      "source": [
        "def change_col(col):\n",
        "    if col == 'Female':\n",
        "        return 1\n",
        "    else:\n",
        "        return 0\n",
        "\n",
        "df['smoking_history'] = df['smoking_history'].astype('category').cat.codes"
      ],
      "metadata": {
        "id": "sqWzaCUEwbV5"
      },
      "execution_count": null,
      "outputs": []
    },
    {
      "cell_type": "code",
      "source": [
        "df['gender'] = df['gender'].apply(change_col)"
      ],
      "metadata": {
        "id": "glkUsV8dwhRS"
      },
      "execution_count": null,
      "outputs": []
    },
    {
      "cell_type": "code",
      "source": [
        "from sklearn.model_selection import train_test_split\n",
        "X = df.drop('diabetes',axis=1)\n",
        "y = df['diabetes']"
      ],
      "metadata": {
        "id": "TZay1AzM5aDR"
      },
      "execution_count": null,
      "outputs": []
    },
    {
      "cell_type": "code",
      "source": [
        "X_train,X_test,y_train,y_test = train_test_split(X,y,test_size = 0.2)"
      ],
      "metadata": {
        "id": "QCSQF7UL5o3H"
      },
      "execution_count": null,
      "outputs": []
    },
    {
      "cell_type": "code",
      "source": [
        "from sklearn.ensemble import RandomForestClassifier"
      ],
      "metadata": {
        "id": "b7ZwmrpX5vVS"
      },
      "execution_count": null,
      "outputs": []
    },
    {
      "cell_type": "code",
      "source": [
        "clf=RandomForestClassifier(n_estimators=100)\n",
        "clf = clf.fit(X_train,y_train)"
      ],
      "metadata": {
        "id": "h4bafYDX5wWs"
      },
      "execution_count": null,
      "outputs": []
    },
    {
      "cell_type": "code",
      "source": [
        "clf.score(X_test,y_test)"
      ],
      "metadata": {
        "id": "IcnXX3t650ib"
      },
      "execution_count": null,
      "outputs": []
    },
    {
      "cell_type": "markdown",
      "source": [
        "Score using 5-fold cross Validation."
      ],
      "metadata": {
        "id": "XjRx34vn-frc"
      }
    },
    {
      "cell_type": "code",
      "source": [
        "from sklearn.model_selection import cross_val_score\n",
        "clf = RandomForestClassifier()\n",
        "scores = cross_val_score(clf, X, y, cv=5)\n",
        "scores"
      ],
      "metadata": {
        "id": "gjLdRj-u-nOF"
      },
      "execution_count": null,
      "outputs": []
    }
  ]
}