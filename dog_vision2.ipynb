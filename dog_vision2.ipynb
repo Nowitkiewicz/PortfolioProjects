{
  "cells": [
    {
      "cell_type": "markdown",
      "metadata": {
        "id": "view-in-github",
        "colab_type": "text"
      },
      "source": [
        "<a href=\"https://colab.research.google.com/github/Nowitkiewicz/PortfolioProjects/blob/main/dog_vision2.ipynb\" target=\"_parent\"><img src=\"https://colab.research.google.com/assets/colab-badge.svg\" alt=\"Open In Colab\"/></a>"
      ]
    },
    {
      "cell_type": "code",
      "execution_count": 13,
      "metadata": {
        "id": "vWbt6Gnh1X75"
      },
      "outputs": [],
      "source": [
        "import tensorflow as tf\n",
        "import tensorflow_hub as hub\n",
        "import pandas as pd\n",
        "import os\n",
        "import numpy as np\n",
        "import matplotlib.pyplot as plt\n",
        "from matplotlib.pyplot import imread, imshow\n",
        "from IPython.display import Image\n",
        "labels = pd.read_csv(\"/content/drive/MyDrive/dog_vision/labels.csv\")\n",
        "\n",
        "#filenames = os.listdir(\"/content/drive/MyDrive/dog_vision/train/\")\n",
        "#filenames = ['drive/MyDrive/dog-vision/train/' + fname + '.jpg' for fname in labels['id']]\n",
        "#fileBreed =[\"drive/MyDrive/dog-vision/train/\" + fname for fname in labels['breed']]\n",
        "\n",
        "#from matplotlib.pyplot import imread, imshow\n",
        "#image = imread(filenames[1])\n",
        "#imshow(image)"
      ]
    },
    {
      "cell_type": "code",
      "source": [
        "uniquebreeds = np.unique(fileBreed)"
      ],
      "metadata": {
        "id": "GOO-GrctpJNB"
      },
      "execution_count": null,
      "outputs": []
    },
    {
      "cell_type": "code",
      "source": [
        "uniquebreeds == fileBreed[0])"
      ],
      "metadata": {
        "id": "KsRXeH5cH4aV"
      },
      "execution_count": null,
      "outputs": []
    },
    {
      "cell_type": "code",
      "execution_count": null,
      "metadata": {
        "colab": {
          "base_uri": "https://localhost:8080/"
        },
        "id": "vxuuWYdcDvWZ",
        "outputId": "8f70bde8-dca0-46c2-a286-92e0e4be8a63"
      },
      "outputs": [
        {
          "output_type": "stream",
          "name": "stdout",
          "text": [
            "[False False False False False False False False False False False False\n",
            " False False False False False False False  True False False False False\n",
            " False False False False False False False False False False False False\n",
            " False False False False False False False False False False False False\n",
            " False False False False False False False False False False False False\n",
            " False False False False False False False False False False False False\n",
            " False False False False False False False False False False False False\n",
            " False False False False False False False False False False False False\n",
            " False False False False False False False False False False False False\n",
            " False False False False False False False False False False False False]\n"
          ]
        }
      ],
      "source": [
        "import numpy as np\n",
        "uniquebreeds = np.unique(fileBreed )\n",
        "#print(uniquebreeds = fileBreed)\n",
        "print(fileBreed[0]== uniquebreeds)\n",
        "#print(uniquebreeds[19])\n",
        "#print(len(uniquebreeds))\n",
        "#rint(fileBreed[0])"
      ]
    },
    {
      "cell_type": "code",
      "source": [
        "boolean_labels = [label == uniquebreeds for label in fileBreed]\n",
        "len(boolean_labels)"
      ],
      "metadata": {
        "id": "efjJHfnyGS3-"
      },
      "execution_count": null,
      "outputs": []
    },
    {
      "cell_type": "code",
      "execution_count": null,
      "metadata": {
        "colab": {
          "base_uri": "https://localhost:8080/"
        },
        "outputId": "1ee60fc0-5eee-4f90-c617-3abf79b43815",
        "id": "v__1m0bLwSVP"
      },
      "outputs": [
        {
          "output_type": "stream",
          "name": "stdout",
          "text": [
            "/content/drive/MyDrive/dog_vision/train/boston_bull\n",
            "(array([19]),)\n"
          ]
        }
      ],
      "source": [
        "print(fileBreed[0])\n",
        "print(np.where(uniquebreeds == fileBreed[0]))\n",
        "# print(boolean_labels[0].argmax())\n",
        "#print(boolean_labels[0].astype(tf.float32))\n",
        "#print(boolean_labels[0])"
      ]
    },
    {
      "cell_type": "code",
      "execution_count": null,
      "metadata": {
        "colab": {
          "base_uri": "https://localhost:8080/"
        },
        "outputId": "4b54c250-ecb4-4c8c-93a2-9a0a1339c09c",
        "id": "bVpYdv-kwQop"
      },
      "outputs": [
        {
          "output_type": "stream",
          "name": "stdout",
          "text": [
            "/content/drive/MyDrive/dog_vision/train/boston_bull\n",
            "(array([19]),)\n",
            "19\n",
            "[0 0 0 0 0 0 0 0 0 0 0 0 0 0 0 0 0 0 0 1 0 0 0 0 0 0 0 0 0 0 0 0 0 0 0 0 0\n",
            " 0 0 0 0 0 0 0 0 0 0 0 0 0 0 0 0 0 0 0 0 0 0 0 0 0 0 0 0 0 0 0 0 0 0 0 0 0\n",
            " 0 0 0 0 0 0 0 0 0 0 0 0 0 0 0 0 0 0 0 0 0 0 0 0 0 0 0 0 0 0 0 0 0 0 0 0 0\n",
            " 0 0 0 0 0 0 0 0 0]\n"
          ]
        }
      ],
      "source": [
        "print(fileBreed[0])\n",
        "print(np.where(uniquebreeds == fileBreed[0]))\n",
        "print(boolean_labels[0].argmax())\n",
        "print(boolean_labels[0].astype(int))"
      ]
    },
    {
      "cell_type": "code",
      "execution_count": null,
      "metadata": {
        "colab": {
          "base_uri": "https://localhost:8080/"
        },
        "outputId": "4b54c250-ecb4-4c8c-93a2-9a0a1339c09c",
        "id": "3Szo4OeZwPUC"
      },
      "outputs": [
        {
          "output_type": "stream",
          "name": "stdout",
          "text": [
            "/content/drive/MyDrive/dog_vision/train/boston_bull\n",
            "(array([19]),)\n",
            "19\n",
            "[0 0 0 0 0 0 0 0 0 0 0 0 0 0 0 0 0 0 0 1 0 0 0 0 0 0 0 0 0 0 0 0 0 0 0 0 0\n",
            " 0 0 0 0 0 0 0 0 0 0 0 0 0 0 0 0 0 0 0 0 0 0 0 0 0 0 0 0 0 0 0 0 0 0 0 0 0\n",
            " 0 0 0 0 0 0 0 0 0 0 0 0 0 0 0 0 0 0 0 0 0 0 0 0 0 0 0 0 0 0 0 0 0 0 0 0 0\n",
            " 0 0 0 0 0 0 0 0 0]\n"
          ]
        }
      ],
      "source": [
        "print(fileBreed[0])\n",
        "print(np.where(uniquebreeds == fileBreed[0]))\n",
        "print(boolean_labels[0].argmax())\n",
        "print(boolean_labels[0].astype(int))"
      ]
    },
    {
      "cell_type": "code",
      "execution_count": null,
      "metadata": {
        "colab": {
          "base_uri": "https://localhost:8080/"
        },
        "id": "_W3YDron8NsZ",
        "outputId": "12e3ed91-6d39-43ec-b0a5-0927acbafdc8"
      },
      "outputs": [
        {
          "output_type": "execute_result",
          "data": {
            "text/plain": [
              "(array([False, False, False, False, False, False, False, False, False,\n",
              "        False, False, False, False, False, False, False, False, False,\n",
              "        False,  True, False, False, False, False, False, False, False,\n",
              "        False, False, False, False, False, False, False, False, False,\n",
              "        False, False, False, False, False, False, False, False, False,\n",
              "        False, False, False, False, False, False, False, False, False,\n",
              "        False, False, False, False, False, False, False, False, False,\n",
              "        False, False, False, False, False, False, False, False, False,\n",
              "        False, False, False, False, False, False, False, False, False,\n",
              "        False, False, False, False, False, False, False, False, False,\n",
              "        False, False, False, False, False, False, False, False, False,\n",
              "        False, False, False, False, False, False, False, False, False,\n",
              "        False, False, False, False, False, False, False, False, False,\n",
              "        False, False, False]),\n",
              " '/content/drive/MyDrive/dog_vision/train/affenpinscher')"
            ]
          },
          "metadata": {},
          "execution_count": 13
        }
      ],
      "source": [
        "boolean_labels = [label == uniquebreeds for label in fileBreed]\n",
        "\n",
        "boolean_labels[0],uniquebreeds[0]"
      ]
    },
    {
      "cell_type": "code",
      "execution_count": null,
      "metadata": {
        "colab": {
          "base_uri": "https://localhost:8080/"
        },
        "id": "inBqcUKjzleh",
        "outputId": "4b54c250-ecb4-4c8c-93a2-9a0a1339c09c"
      },
      "outputs": [
        {
          "output_type": "stream",
          "name": "stdout",
          "text": [
            "/content/drive/MyDrive/dog_vision/train/boston_bull\n",
            "(array([19]),)\n",
            "19\n",
            "[0 0 0 0 0 0 0 0 0 0 0 0 0 0 0 0 0 0 0 1 0 0 0 0 0 0 0 0 0 0 0 0 0 0 0 0 0\n",
            " 0 0 0 0 0 0 0 0 0 0 0 0 0 0 0 0 0 0 0 0 0 0 0 0 0 0 0 0 0 0 0 0 0 0 0 0 0\n",
            " 0 0 0 0 0 0 0 0 0 0 0 0 0 0 0 0 0 0 0 0 0 0 0 0 0 0 0 0 0 0 0 0 0 0 0 0 0\n",
            " 0 0 0 0 0 0 0 0 0]\n"
          ]
        }
      ],
      "source": [
        "print(fileBreed[0])\n",
        "print(np.where(uniquebreeds == fileBreed[0]))\n",
        "print(boolean_labels[0].argmax())\n",
        "print(boolean_labels[0].astype(int))"
      ]
    },
    {
      "cell_type": "code",
      "execution_count": null,
      "metadata": {
        "id": "flgcZG2jipeo"
      },
      "outputs": [],
      "source": []
    },
    {
      "cell_type": "code",
      "execution_count": null,
      "metadata": {
        "id": "UYM1YPHIj4ld"
      },
      "outputs": [],
      "source": [
        "from sklearn.model_selection import train_test_split\n",
        "X = filenames\n",
        "y = boolean_labels\n",
        "X_train,X_val,y_train,y_val = train_test_split(X, y , test_size = 0.2)"
      ]
    },
    {
      "cell_type": "markdown",
      "metadata": {
        "id": "_VHeMbxUg8Oh"
      },
      "source": [
        "\n",
        "\n",
        "Preprocessing image to tensor 1.take an image file as input 2.use tensorflow to read and save to variable image 3.turn image (jpg) into Tensors 4.resize image to 224,224\n",
        "\n"
      ]
    },
    {
      "cell_type": "code",
      "execution_count": null,
      "metadata": {
        "id": "TLnFGR00Na1W"
      },
      "outputs": [],
      "source": [
        "tensor = tf.constant(image)\n",
        "tensor"
      ]
    },
    {
      "cell_type": "code",
      "execution_count": null,
      "metadata": {
        "id": "AwnzcBTNVqV3"
      },
      "outputs": [],
      "source": [
        "from matplotlib.pyplot import imread\n",
        "image = imread(filenames[42])\n",
        "imshow(image)"
      ]
    },
    {
      "cell_type": "code",
      "execution_count": null,
      "metadata": {
        "id": "GOCXzBo2NxnC"
      },
      "outputs": [],
      "source": [
        "#define image size\n",
        "IMG_SIZE = 224\n",
        "\n",
        "#Creating function for preprocessing image\n",
        "\n",
        "def process_image(image_path,img_size = IMG_SIZE):\n",
        "    \"\"\" Takes an image from image_path and turns it into tensors\n",
        "    \"\"\"\n",
        "    #Read an image file\n",
        "    image = tf.io.read_file(image_path)\n",
        "\n",
        "    #Take an image ( jpg) and turn it into numbers\n",
        "    image = tf.image.decode_jpeg(image, channels = 3)\n",
        "\n",
        "    #Convert color channel from 0-255 to 0-1\n",
        "    image = tf.image.convert_image_dtype(image, tf.float32)\n",
        "\n",
        "    #Resize the image to our desired value\n",
        "    image = tf.image.resize(image, size = [IMG_SIZE,IMG_SIZE])\n",
        "\n",
        "    return image"
      ]
    },
    {
      "cell_type": "code",
      "source": [
        "image = tf.io.read_file(filenames[0])"
      ],
      "metadata": {
        "id": "eBZMJYgCTwt7"
      },
      "execution_count": null,
      "outputs": []
    },
    {
      "cell_type": "code",
      "source": [
        "image = tf.image.decode_jpeg(image, channels = 3)\n",
        "image"
      ],
      "metadata": {
        "id": "aJAwc93xT6vn"
      },
      "execution_count": null,
      "outputs": []
    },
    {
      "cell_type": "code",
      "source": [
        "IMG_SIZE = 224\n",
        "image = tf.image.convert_image_dtype(image, tf.float32)"
      ],
      "metadata": {
        "id": "MaMjelHZT6tD"
      },
      "execution_count": null,
      "outputs": []
    },
    {
      "cell_type": "code",
      "source": [
        "image"
      ],
      "metadata": {
        "colab": {
          "base_uri": "https://localhost:8080/"
        },
        "id": "R1gL2V5sT6p7",
        "outputId": "f3308f4b-0c3b-4c7e-b587-ba4acbba7a48"
      },
      "execution_count": null,
      "outputs": [
        {
          "output_type": "execute_result",
          "data": {
            "text/plain": [
              "<tf.Tensor: shape=(224, 224, 3), dtype=float32, numpy=\n",
              "array([[[0.5705322 , 0.33588538, 0.15008473],\n",
              "        [0.66901225, 0.4601166 , 0.26022965],\n",
              "        [0.61062384, 0.43763596, 0.21601713],\n",
              "        ...,\n",
              "        [0.8182312 , 0.7297958 , 0.26963907],\n",
              "        [0.72454786, 0.6059109 , 0.2653059 ],\n",
              "        [0.7494603 , 0.6252918 , 0.32456532]],\n",
              "\n",
              "       [[0.6761415 , 0.4733761 , 0.30642927],\n",
              "        [0.5672121 , 0.38192675, 0.20349538],\n",
              "        [0.5883547 , 0.4322571 , 0.2403155 ],\n",
              "        ...,\n",
              "        [0.9326942 , 0.8260503 , 0.41093278],\n",
              "        [0.86072475, 0.74250627, 0.3694122 ],\n",
              "        [0.76781666, 0.6461604 , 0.29291284]],\n",
              "\n",
              "       [[0.46350825, 0.29595745, 0.1536156 ],\n",
              "        [0.42554107, 0.27039403, 0.12009468],\n",
              "        [0.7887875 , 0.6547362 , 0.49015   ],\n",
              "        ...,\n",
              "        [0.89372385, 0.7696401 , 0.41811958],\n",
              "        [0.88609535, 0.7585918 , 0.36495727],\n",
              "        [0.8243601 , 0.69494826, 0.2930575 ]],\n",
              "\n",
              "       ...,\n",
              "\n",
              "       [[0.7344025 , 0.4716574 , 0.2559711 ],\n",
              "        [0.7137255 , 0.45882356, 0.24705884],\n",
              "        [0.73858845, 0.48431677, 0.27286717],\n",
              "        ...,\n",
              "        [0.70885915, 0.5011093 , 0.3242799 ],\n",
              "        [0.8884395 , 0.6805963 , 0.4820492 ],\n",
              "        [0.8582441 , 0.65040094, 0.4518538 ]],\n",
              "\n",
              "       [[0.73006743, 0.46732238, 0.2516361 ],\n",
              "        [0.7170148 , 0.46211284, 0.25034812],\n",
              "        [0.7450579 , 0.4907862 , 0.2793366 ],\n",
              "        ...,\n",
              "        [0.61970466, 0.38697496, 0.2337188 ],\n",
              "        [0.8422896 , 0.6245787 , 0.4227691 ],\n",
              "        [0.8231962 , 0.615353  , 0.40367568]],\n",
              "\n",
              "       [[0.71346223, 0.45071715, 0.23503087],\n",
              "        [0.7221888 , 0.46728685, 0.25552213],\n",
              "        [0.7443651 , 0.4900934 , 0.27864382],\n",
              "        ...,\n",
              "        [0.51567453, 0.25106463, 0.12167794],\n",
              "        [0.73301876, 0.5191183 , 0.3041832 ],\n",
              "        [0.75639   , 0.5524684 , 0.32383528]]], dtype=float32)>"
            ]
          },
          "metadata": {},
          "execution_count": 28
        }
      ]
    },
    {
      "cell_type": "code",
      "source": [
        "image = tf.image.resize(image, size = [IMG_SIZE,IMG_SIZE])"
      ],
      "metadata": {
        "id": "i8ws8l9PT6my"
      },
      "execution_count": null,
      "outputs": []
    },
    {
      "cell_type": "code",
      "source": [],
      "metadata": {
        "id": "BleVo4C0T6ge"
      },
      "execution_count": null,
      "outputs": []
    },
    {
      "cell_type": "code",
      "source": [
        "boolean_labels[0]"
      ],
      "metadata": {
        "colab": {
          "base_uri": "https://localhost:8080/"
        },
        "id": "2Tg7LR5sT6WM",
        "outputId": "fcbd0505-0b60-42b4-cd2a-6ac71359bb9d"
      },
      "execution_count": null,
      "outputs": [
        {
          "output_type": "execute_result",
          "data": {
            "text/plain": [
              "array([False, False, False, False, False, False, False, False, False,\n",
              "       False, False, False, False, False, False, False, False, False,\n",
              "       False,  True, False, False, False, False, False, False, False,\n",
              "       False, False, False, False, False, False, False, False, False,\n",
              "       False, False, False, False, False, False, False, False, False,\n",
              "       False, False, False, False, False, False, False, False, False,\n",
              "       False, False, False, False, False, False, False, False, False,\n",
              "       False, False, False, False, False, False, False, False, False,\n",
              "       False, False, False, False, False, False, False, False, False,\n",
              "       False, False, False, False, False, False, False, False, False,\n",
              "       False, False, False, False, False, False, False, False, False,\n",
              "       False, False, False, False, False, False, False, False, False,\n",
              "       False, False, False, False, False, False, False, False, False,\n",
              "       False, False, False])"
            ]
          },
          "metadata": {},
          "execution_count": 49
        }
      ]
    },
    {
      "cell_type": "code",
      "execution_count": null,
      "metadata": {
        "id": "U66kqh32ibL7",
        "colab": {
          "base_uri": "https://localhost:8080/",
          "height": 251
        },
        "outputId": "2a9ec856-43a8-458a-9d4c-b6fc4c4df38b"
      },
      "outputs": [
        {
          "output_type": "error",
          "ename": "NameError",
          "evalue": "ignored",
          "traceback": [
            "\u001b[0;31m---------------------------------------------------------------------------\u001b[0m",
            "\u001b[0;31mNameError\u001b[0m                                 Traceback (most recent call last)",
            "\u001b[0;32m<ipython-input-1-a81944e12b7e>\u001b[0m in \u001b[0;36m<cell line: 4>\u001b[0;34m()\u001b[0m\n\u001b[1;32m      2\u001b[0m \u001b[0;31m#image\u001b[0m\u001b[0;34m\u001b[0m\u001b[0;34m\u001b[0m\u001b[0m\n\u001b[1;32m      3\u001b[0m \u001b[0;31m#z = [label == boolean_labels[0] for label in fileBreed if label == boolean_labels[0]]\u001b[0m\u001b[0;34m\u001b[0m\u001b[0;34m\u001b[0m\u001b[0m\n\u001b[0;32m----> 4\u001b[0;31m \u001b[0;32mfor\u001b[0m \u001b[0mlabel\u001b[0m \u001b[0;32min\u001b[0m \u001b[0mboolean_labels\u001b[0m\u001b[0;34m:\u001b[0m\u001b[0;34m\u001b[0m\u001b[0;34m\u001b[0m\u001b[0m\n\u001b[0m\u001b[1;32m      5\u001b[0m     \u001b[0;31m#if label == boolean_labels[0]:\u001b[0m\u001b[0;34m\u001b[0m\u001b[0;34m\u001b[0m\u001b[0m\n\u001b[1;32m      6\u001b[0m     \u001b[0mprint\u001b[0m\u001b[0;34m(\u001b[0m\u001b[0mlabel\u001b[0m\u001b[0;34m)\u001b[0m\u001b[0;34m\u001b[0m\u001b[0;34m\u001b[0m\u001b[0m\n",
            "\u001b[0;31mNameError\u001b[0m: name 'boolean_labels' is not defined"
          ]
        }
      ],
      "source": [
        "#process_image(X[0])\n",
        "#image\n",
        "#z = [label == boolean_labels[0] for label in fileBreed if label == boolean_labels[0]]\n",
        "for label in boolean_labels:\n",
        "    #if label == boolean_labels[0]:\n",
        "    print(label)"
      ]
    },
    {
      "cell_type": "markdown",
      "metadata": {
        "id": "X3Lzx0Qhloha"
      },
      "source": [
        "Turning our data into batches.\n"
      ]
    },
    {
      "cell_type": "markdown",
      "metadata": {
        "id": "KEDjC6__mwem"
      },
      "source": [
        "Create a function to return a tuple (image,label)"
      ]
    },
    {
      "cell_type": "code",
      "execution_count": null,
      "metadata": {
        "id": "dPf2jnZBixcP"
      },
      "outputs": [],
      "source": [
        "def get_image_label(X, y):\n",
        "    \"\"\"Takes an image filepath name and assoassociated label,\n",
        "    processes the image and return a tuple (image,label)\n",
        "    \"\"\"\n",
        "    image = process_image(X)\n",
        "\n",
        "    return image, y"
      ]
    },
    {
      "cell_type": "code",
      "execution_count": null,
      "metadata": {
        "id": "EAJLtDiwjnBR",
        "colab": {
          "base_uri": "https://localhost:8080/",
          "height": 251
        },
        "outputId": "9be651f7-7978-40ef-f85a-9027de733b1e"
      },
      "outputs": [
        {
          "output_type": "error",
          "ename": "NameError",
          "evalue": "ignored",
          "traceback": [
            "\u001b[0;31m---------------------------------------------------------------------------\u001b[0m",
            "\u001b[0;31mNameError\u001b[0m                                 Traceback (most recent call last)",
            "\u001b[0;32m<ipython-input-42-7f23e5b11c37>\u001b[0m in \u001b[0;36m<cell line: 3>\u001b[0;34m()\u001b[0m\n\u001b[1;32m      1\u001b[0m \u001b[0mget_image_label\u001b[0m\u001b[0;34m(\u001b[0m\u001b[0mX\u001b[0m\u001b[0;34m[\u001b[0m\u001b[0;36m0\u001b[0m\u001b[0;34m]\u001b[0m\u001b[0;34m,\u001b[0m\u001b[0my\u001b[0m\u001b[0;34m[\u001b[0m\u001b[0;36m0\u001b[0m\u001b[0;34m]\u001b[0m\u001b[0;34m)\u001b[0m\u001b[0;34m\u001b[0m\u001b[0;34m\u001b[0m\u001b[0m\n\u001b[1;32m      2\u001b[0m \u001b[0;31m#print(boolean_labels[0].argmax())\u001b[0m\u001b[0;34m\u001b[0m\u001b[0;34m\u001b[0m\u001b[0m\n\u001b[0;32m----> 3\u001b[0;31m \u001b[0mz\u001b[0m \u001b[0;34m=\u001b[0m \u001b[0mlabel\u001b[0m \u001b[0;34m==\u001b[0m \u001b[0mboolean_labels\u001b[0m\u001b[0;34m[\u001b[0m\u001b[0;36m0\u001b[0m\u001b[0;34m]\u001b[0m\u001b[0;34m\u001b[0m\u001b[0;34m\u001b[0m\u001b[0m\n\u001b[0m\u001b[1;32m      4\u001b[0m \u001b[0;31m#y[0] == np.argmax()\u001b[0m\u001b[0;34m\u001b[0m\u001b[0;34m\u001b[0m\u001b[0m\n\u001b[1;32m      5\u001b[0m \u001b[0mz\u001b[0m\u001b[0;34m\u001b[0m\u001b[0;34m\u001b[0m\u001b[0m\n",
            "\u001b[0;31mNameError\u001b[0m: name 'label' is not defined"
          ]
        }
      ],
      "source": [
        "get_image_label(X[0],y[0])\n",
        "#print(boolean_labels[0].argmax())\n",
        "z = label == boolean_labels[0]\n",
        "#y[0] == np.argmax()\n",
        "z"
      ]
    },
    {
      "cell_type": "markdown",
      "metadata": {
        "id": "CNoiuM3V3gKp"
      },
      "source": [
        "Let's turn all of our data into batches."
      ]
    },
    {
      "cell_type": "code",
      "execution_count": null,
      "metadata": {
        "id": "UQBK0iwuzRxm"
      },
      "outputs": [],
      "source": [
        "#Define batch size of 32\n",
        "BATCH_SIZE = 32\n",
        "#Create a function to create a batches from given data.\n",
        "def create_data_batches(X, y = None , batch_size = BATCH_SIZE,valid_data = False, test_data = False):\n",
        "    \"\"\" Create batches of data out of image (X)  and label (y) pairs.\n",
        "    Shuffles the data if it's training data but doesn't shuffle if it's validation data.\n",
        "    Also accepts test data as input (no label)\n",
        "    \"\"\"\n",
        "    #If the data is test dataset we probably don't have labels\n",
        "    if test_data:\n",
        "        print(\"Creating test databatches...\")\n",
        "        data = tf.data.Dataset.from_tensor_slices((tf.constant(X))) #only filepaths\n",
        "        data_batch = data.map(process_image).batch(BATCH_SIZE)\n",
        "        return data_batch\n",
        "\n",
        "    #if the data is a valid set we don't need to shuffle it.\n",
        "    elif valid_data:\n",
        "        print(\"Creating validation databatches...\")\n",
        "        data = tf.data.Dataset.from_tensor_slices((tf.constant(X), #filepaths\n",
        "                                                   tf.constant(y))) #labels\n",
        "\n",
        "        data_batch = data.map(get_image_label).batch(BATCH_SIZE)\n",
        "\n",
        "        return data_batch\n",
        "\n",
        "    #Turn filepaths and labels into tensors.\n",
        "    else:\n",
        "        print(\"Creating training databatches...\")\n",
        "        data = tf.data.Dataset.from_tensor_slices((tf.constant(X),\n",
        "                                                 tf.constant(y)))\n",
        "        #Shuffling data and labels.\n",
        "        data = data.shuffle(buffer_size = len(X))\n",
        "        data = data.map(get_image_label)\n",
        "        data_batch = data.batch(BATCH_SIZE)\n",
        "\n",
        "    return data_batch\n"
      ]
    },
    {
      "cell_type": "code",
      "execution_count": null,
      "metadata": {
        "colab": {
          "base_uri": "https://localhost:8080/"
        },
        "id": "arI0SW2M-I5L",
        "outputId": "4c991bdb-c758-4509-904e-a21cc836e200"
      },
      "outputs": [
        {
          "output_type": "stream",
          "name": "stdout",
          "text": [
            "Creating validation databatches...\n"
          ]
        },
        {
          "output_type": "execute_result",
          "data": {
            "text/plain": [
              "<_BatchDataset element_spec=(TensorSpec(shape=(None, 224, 224, 3), dtype=tf.float32, name=None), TensorSpec(shape=(None, 120), dtype=tf.bool, name=None))>"
            ]
          },
          "metadata": {},
          "execution_count": 47
        }
      ],
      "source": [
        "create_data_batches(X, y , batch_size = BATCH_SIZE,valid_data = True, test_data = False)"
      ]
    },
    {
      "cell_type": "code",
      "execution_count": null,
      "metadata": {
        "colab": {
          "base_uri": "https://localhost:8080/"
        },
        "id": "ooYUy-YeWeFo",
        "outputId": "64394ba1-6a9c-414f-bc32-4b56cd4976f2"
      },
      "outputs": [
        {
          "output_type": "stream",
          "name": "stdout",
          "text": [
            "Creating training databatches...\n"
          ]
        },
        {
          "output_type": "execute_result",
          "data": {
            "text/plain": [
              "<_BatchDataset element_spec=(TensorSpec(shape=(None, 224, 224, 3), dtype=tf.float32, name=None), TensorSpec(shape=(None, 120), dtype=tf.bool, name=None))>"
            ]
          },
          "metadata": {},
          "execution_count": 48
        }
      ],
      "source": [
        "create_data_batches(X, y  , batch_size = BATCH_SIZE,valid_data = False, test_data = False)"
      ]
    },
    {
      "cell_type": "code",
      "execution_count": null,
      "metadata": {
        "id": "38WYoQPmWm0h"
      },
      "outputs": [],
      "source": []
    }
  ],
  "metadata": {
    "accelerator": "GPU",
    "colab": {
      "provenance": [],
      "mount_file_id": "1TV9ByzP7en_YCWS-MuIojeqBPvQP1NtP",
      "authorship_tag": "ABX9TyOxfS1qbLw1THE1XkWqQZsE",
      "include_colab_link": true
    },
    "kernelspec": {
      "display_name": "Python 3",
      "name": "python3"
    },
    "language_info": {
      "name": "python"
    }
  },
  "nbformat": 4,
  "nbformat_minor": 0
}