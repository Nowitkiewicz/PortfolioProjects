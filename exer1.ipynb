{
 "cells": [
  {
   "cell_type": "code",
   "execution_count": 1,
   "metadata": {},
   "outputs": [
    {
     "ename": "SyntaxError",
     "evalue": "invalid syntax (<ipython-input-1-12f025f3b3bb>, line 1)",
     "output_type": "error",
     "traceback": [
      "\u001b[1;36m  File \u001b[1;32m\"<ipython-input-1-12f025f3b3bb>\"\u001b[1;36m, line \u001b[1;32m1\u001b[0m\n\u001b[1;33m    Zapisz poniższe polecenie if w postaci uproszczonej:\u001b[0m\n\u001b[1;37m                  ^\u001b[0m\n\u001b[1;31mSyntaxError\u001b[0m\u001b[1;31m:\u001b[0m invalid syntax\n"
     ]
    }
   ],
   "source": [
    "Zapisz poniższe polecenie if w postaci uproszczonej:\n",
    "\n",
    "    price = 123\n",
    "    bonus = 23\n",
    "    bonus_granted = True\n",
    "     \n",
    "    if bonus_granted:\n",
    "        price -= bonus\n",
    "     \n",
    "    print(price)\n",
    "\n",
    "\n",
    "Zapisz poniższe polecenie if w postaci uproszczonej:\n",
    "\n",
    "    rating = 5\n",
    "     \n",
    "    if rating == 5:\n",
    "        print('very good')\n",
    "    elif rating == 4:\n",
    "        print('good')\n",
    "    else:\n",
    "        print('weak')\n",
    "\n",
    "\n",
    "Ktoś był kiedyś niezadowolony, bo w kursie jest za mało polskich akcentów, więc... posłuchaj piosenki De Mono - Niedziela będzie dla nas - https://www.youtube.com/watch?v=lmn0Qf1_eI4 (możesz też skorzystać z oryginalnej wersji: Niebiesko Czarnych: https://www.youtube.com/watch?v=Fxkhe8GqYkc)\n",
    "\n",
    "Napisz program, który:\n",
    "\n",
    "    zapisze w zmiennej today_weekday nazwę dzisiejszego dnia tygodnia\n",
    "\n",
    "    bazując na pierwszej zwrotce piosenki serią poleceń if/elif/.../else ustali co dzisiaj powinieneś robić\n",
    "\n",
    "Przepisz powyższy program stosując składnie uproszczona polecenia if"
   ]
  },
  {
   "cell_type": "markdown",
   "metadata": {},
   "source": [
    "  price = 123\n",
    "    bonus = 23\n",
    "    bonus_granted = True\n",
    "     \n",
    "    if bonus_granted:\n",
    "        price -= bonus\n",
    "     \n",
    "    print(price)"
   ]
  },
  {
   "cell_type": "code",
   "execution_count": 5,
   "metadata": {},
   "outputs": [
    {
     "name": "stdout",
     "output_type": "stream",
     "text": [
      "123\n"
     ]
    }
   ],
   "source": [
    "price = 123\n",
    "bonus = 23\n",
    "bonus_granted = []\n",
    "\n",
    "\n",
    "print(price - bonus) if bonus_granted else print(price)"
   ]
  },
  {
   "cell_type": "code",
   "execution_count": null,
   "metadata": {},
   "outputs": [],
   "source": [
    "    rating = 5\n",
    "     \n",
    "    if rating == 5:\n",
    "        print('very good')\n",
    "    elif rating == 4:\n",
    "        print('good')\n",
    "    else:\n",
    "        print('weak')"
   ]
  },
  {
   "cell_type": "code",
   "execution_count": 8,
   "metadata": {},
   "outputs": [
    {
     "name": "stdout",
     "output_type": "stream",
     "text": [
      "very good\n"
     ]
    }
   ],
   "source": [
    "rating = 5\n",
    "print('very good') if rating == 5 else print('good') if rating == 4 else print('weak')"
   ]
  },
  {
   "cell_type": "code",
   "execution_count": 13,
   "metadata": {},
   "outputs": [],
   "source": [
    "l1 = list(range(10))\n",
    "l2 = list(range(10,20))"
   ]
  },
  {
   "cell_type": "code",
   "execution_count": 15,
   "metadata": {},
   "outputs": [
    {
     "data": {
      "text/plain": [
       "10"
      ]
     },
     "execution_count": 15,
     "metadata": {},
     "output_type": "execute_result"
    }
   ],
   "source": [
    "len(l2)"
   ]
  },
  {
   "cell_type": "code",
   "execution_count": 22,
   "metadata": {},
   "outputs": [
    {
     "name": "stdout",
     "output_type": "stream",
     "text": [
      "0 0 10\n",
      "1 1 11\n",
      "2 2 12\n",
      "3 3 13\n",
      "4 4 14\n",
      "5 5 15\n",
      "6 6 16\n",
      "7 7 17\n",
      "8 8 18\n",
      "9 9 19\n"
     ]
    }
   ],
   "source": [
    "zipped = list(zip(l1,l2))\n",
    "for i,(a,b) in list(enumerate(zipped)):\n",
    "    print(i,a,b)"
   ]
  },
  {
   "cell_type": "code",
   "execution_count": null,
   "metadata": {},
   "outputs": [],
   "source": []
  }
 ],
 "metadata": {
  "kernelspec": {
   "display_name": "Python 3",
   "language": "python",
   "name": "python3"
  },
  "language_info": {
   "codemirror_mode": {
    "name": "ipython",
    "version": 3
   },
   "file_extension": ".py",
   "mimetype": "text/x-python",
   "name": "python",
   "nbconvert_exporter": "python",
   "pygments_lexer": "ipython3",
   "version": "3.7.3"
  }
 },
 "nbformat": 4,
 "nbformat_minor": 2
}
